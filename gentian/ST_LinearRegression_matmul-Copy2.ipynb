{
 "cells": [
  {
   "cell_type": "code",
   "execution_count": 22,
   "metadata": {},
   "outputs": [
    {
     "name": "stdout",
     "output_type": "stream",
     "text": [
      "0 0.668394 [[ 0.62079364]\n",
      " [ 0.31205833]\n",
      " [-0.44946396]] [-0.03815648]\n",
      "200 0.00425962 [[ 0.1470131 ]\n",
      " [ 0.26997334]\n",
      " [-0.05985335]] [ 0.39353907]\n",
      "400 4.48996e-05 [[ 0.09602669]\n",
      " [ 0.26285449]\n",
      " [-0.0231044 ]] [ 0.43740702]\n",
      "600 4.73148e-07 [[ 0.09079202]\n",
      " [ 0.26212364]\n",
      " [-0.0193315 ]] [ 0.44191101]\n",
      "800 4.99281e-09 [[ 0.09025456]\n",
      " [ 0.26204866]\n",
      " [-0.01894416]] [ 0.44237331]\n",
      "1000 5.42286e-11 [[ 0.0901994 ]\n",
      " [ 0.26204091]\n",
      " [-0.01890436]] [ 0.44242069]\n",
      "1200 8.95284e-13 [[ 0.09019363]\n",
      " [ 0.26204032]\n",
      " [-0.0189003 ]] [ 0.44242522]\n",
      "1400 6.63173e-14 [[ 0.09019274]\n",
      " [ 0.26204023]\n",
      " [-0.01889958]] [ 0.44242522]\n",
      "1600 2.36848e-14 [[ 0.0901927 ]\n",
      " [ 0.26204023]\n",
      " [-0.01889953]] [ 0.44242522]\n",
      "1800 2.36848e-14 [[ 0.0901927 ]\n",
      " [ 0.26204023]\n",
      " [-0.01889953]] [ 0.44242522]\n",
      "2000 2.36848e-14 [[ 0.0901927 ]\n",
      " [ 0.26204023]\n",
      " [-0.01889953]] [ 0.44242522]\n"
     ]
    }
   ],
   "source": [
    "import tensorflow as tf\n",
    "import random\n",
    "\n",
    "#https://ko.wikipedia.org/wiki/%EB%82%9C%EC%88%98\n",
    "#seed 라 불리는 수를 인자로 매번 다르게 주어 매번 다른 난수를 추출하게끔한다.\n",
    "#그래서.. 지정하면 같은값이 나와야 하는데 계속 값이 변한다.\n",
    "tf.set_random_seed(22)\n",
    "\n",
    "\n",
    "\n",
    "x_train = [[1,2,3],[4,5,6],[7,8,9]]\n",
    "y_train = [[1],[2],[3]]\n",
    "\n",
    "X = tf.placeholder(tf.float32, [None,3])\n",
    "Y = tf.placeholder(tf.float32, [None,1])\n",
    "\n",
    "# 안의 숫자는 shape\n",
    "W = tf.Variable(tf.random_normal([3,1]), name='weight')\n",
    "b = tf.Variable(tf.random_normal([1]), name='bias')\n",
    "\n",
    "\n",
    "# H(x) = Wx + b\n",
    "hypothesis = tf.matmul(X, W) + b\n",
    "\n",
    "cost = tf.reduce_mean(tf.square(hypothesis - Y))\n",
    "\n",
    "train = tf.train.GradientDescentOptimizer(learning_rate=0.01).minimize(cost)\n",
    "\n",
    "sess = tf.Session()\n",
    "sess.run(tf.global_variables_initializer())\n",
    "\n",
    "for step in range(2001):\n",
    "    #sess.run(optimizer, feed_dict={X:x_train, Y:y_train})\n",
    "    cost_val, W_val, b_val, _ = sess.run([cost, W, b, train], feed_dict={X:x_train, Y:y_train})\n",
    "    if step % 200 == 0:\n",
    "        print(step, cost_val, W_val, b_val)\n",
    "\n",
    "\n",
    "\n",
    "\n",
    "\n",
    "\n",
    "\n",
    "\n",
    "    \n"
   ]
  },
  {
   "cell_type": "code",
   "execution_count": null,
   "metadata": {
    "collapsed": true
   },
   "outputs": [],
   "source": []
  }
 ],
 "metadata": {
  "celltoolbar": "Raw Cell Format",
  "kernelspec": {
   "display_name": "Python 3",
   "language": "python",
   "name": "python3"
  },
  "language_info": {
   "codemirror_mode": {
    "name": "ipython",
    "version": 3
   },
   "file_extension": ".py",
   "mimetype": "text/x-python",
   "name": "python",
   "nbconvert_exporter": "python",
   "pygments_lexer": "ipython3",
   "version": "3.6.3"
  }
 },
 "nbformat": 4,
 "nbformat_minor": 2
}
